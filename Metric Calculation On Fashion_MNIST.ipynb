{
 "cells": [
  {
   "cell_type": "code",
   "execution_count": 87,
   "id": "4cf3bb5e-cd13-4c8e-81b3-cb01df8a4915",
   "metadata": {},
   "outputs": [],
   "source": [
    "#Load Libraries\n",
    "\n",
    "import tensorflow as tf\n",
    "import numpy as np\n",
    "import pandas as pd\n",
    "import matplotlib.pyplot as plt\n",
    "import seaborn as sns\n",
    "import cv2"
   ]
  },
  {
   "cell_type": "code",
   "execution_count": 89,
   "id": "ebde322d-5b32-4fef-a845-47f45a44357e",
   "metadata": {},
   "outputs": [],
   "source": [
    "#Load Dataset\n",
    "(x_train, y_train), (x_test, y_test) = tf.keras.datasets.fashion_mnist.load_data()"
   ]
  },
  {
   "cell_type": "code",
   "execution_count": 91,
   "id": "f5198ad1-257d-49a6-98c9-d00145aeb487",
   "metadata": {},
   "outputs": [
    {
     "data": {
      "text/plain": [
       "((60000, 28, 28), (60000,))"
      ]
     },
     "execution_count": 91,
     "metadata": {},
     "output_type": "execute_result"
    }
   ],
   "source": [
    "#Shape of the data\n",
    "x_train.shape, y_train.shape"
   ]
  },
  {
   "cell_type": "code",
   "execution_count": 93,
   "id": "85d14c25-e16d-4df9-bf8f-1c9c1ef0ca72",
   "metadata": {},
   "outputs": [],
   "source": [
    "#Normalize data\n",
    "\n",
    "x_train = x_train/255.0\n",
    "y_train = tf.keras.utils.to_categorical(y_train)"
   ]
  },
  {
   "cell_type": "code",
   "execution_count": 95,
   "id": "6c6b6997-d7db-4fa2-a210-52a304517a3d",
   "metadata": {},
   "outputs": [
    {
     "data": {
      "text/plain": [
       "((60000, 28, 28), (60000, 10))"
      ]
     },
     "execution_count": 95,
     "metadata": {},
     "output_type": "execute_result"
    }
   ],
   "source": [
    "x_train.shape, y_train.shape"
   ]
  },
  {
   "cell_type": "code",
   "execution_count": 97,
   "id": "beff4dcd-45b2-4dd7-b32f-668a5711d64a",
   "metadata": {},
   "outputs": [
    {
     "name": "stdout",
     "output_type": "stream",
     "text": [
      "[1. 0. 0. 0. 0. 0. 0. 0. 0. 0.]\n"
     ]
    },
    {
     "data": {
      "image/png": "[encoded data removed]",
      "text/plain": [
       "<Figure size 640x480 with 1 Axes>"
      ]
     },
     "metadata": {},
     "output_type": "display_data"
    }
   ],
   "source": [
    "plt.imshow(x_train[10], cmap ='grey')\n",
    "print(y_train[10])\n",
    "plt.show()"
   ]
  },
  {
   "cell_type": "code",
   "execution_count": 99,
   "id": "b2fbe640-bd13-4b17-8ddd-4f1a15a547bb",
   "metadata": {},
   "outputs": [],
   "source": [
    "del model"
   ]
  },
  {
   "cell_type": "code",
   "execution_count": 101,
   "id": "452ee594-7133-41bd-a509-ceb5b0d40903",
   "metadata": {},
   "outputs": [],
   "source": [
    "model = tf.keras.models.Sequential()\n",
    "model.add(tf.keras.layers.Input((28,28) , name= 'InputLayer'))\n",
    "model.add(tf.keras.layers.Flatten(name = 'FlatLayer'))\n",
    "model.add(tf.keras.layers.Dense(512, activation = tf.keras.activations.relu, name = 'HiddenLayer1'))\n",
    "model.add(tf.keras.layers.Dense(128, activation = tf.keras.activations.relu, name = 'HiddenLayer2'))\n",
    "model.add(tf.keras.layers.Dense(10, activation = tf.keras.activations.softmax , name = 'OutputLayer'))"
   ]
  },
  {
   "cell_type": "code",
   "execution_count": 103,
   "id": "200ff42c-5f05-4c87-8e17-414c45904e3f",
   "metadata": {},
   "outputs": [],
   "source": [
    "model.compile(optimizer=tf.keras.optimizers.SGD(),\n",
    "              loss=tf.keras.losses.categorical_crossentropy,\n",
    "              metrics=[\"acc\"])"
   ]
  },
  {
   "cell_type": "code",
   "execution_count": 105,
   "id": "91563adb-537a-4349-9f8c-4154cbe9a811",
   "metadata": {},
   "outputs": [
    {
     "name": "stdout",
     "output_type": "stream",
     "text": [
      "Epoch 1/20\n",
      "\u001b[1m844/844\u001b[0m \u001b[32m━━━━━━━━━━━━━━━━━━━━\u001b[0m\u001b[37m\u001b[0m \u001b[1m6s\u001b[0m 7ms/step - acc: 0.6453 - loss: 1.1793 - val_acc: 0.8060 - val_loss: 0.5773\n",
      "Epoch 2/20\n",
      "\u001b[1m844/844\u001b[0m \u001b[32m━━━━━━━━━━━━━━━━━━━━\u001b[0m\u001b[37m\u001b[0m \u001b[1m5s\u001b[0m 6ms/step - acc: 0.8157 - loss: 0.5585 - val_acc: 0.8300 - val_loss: 0.4919\n",
      "Epoch 3/20\n",
      "\u001b[1m844/844\u001b[0m \u001b[32m━━━━━━━━━━━━━━━━━━━━\u001b[0m\u001b[37m\u001b[0m \u001b[1m5s\u001b[0m 6ms/step - acc: 0.8359 - loss: 0.4845 - val_acc: 0.8355 - val_loss: 0.4693\n",
      "Epoch 4/20\n",
      "\u001b[1m844/844\u001b[0m \u001b[32m━━━━━━━━━━━━━━━━━━━━\u001b[0m\u001b[37m\u001b[0m \u001b[1m6s\u001b[0m 7ms/step - acc: 0.8415 - loss: 0.4590 - val_acc: 0.8480 - val_loss: 0.4366\n",
      "Epoch 5/20\n",
      "\u001b[1m844/844\u001b[0m \u001b[32m━━━━━━━━━━━━━━━━━━━━\u001b[0m\u001b[37m\u001b[0m \u001b[1m10s\u001b[0m 6ms/step - acc: 0.8479 - loss: 0.4418 - val_acc: 0.8517 - val_loss: 0.4244\n",
      "Epoch 6/20\n",
      "\u001b[1m844/844\u001b[0m \u001b[32m━━━━━━━━━━━━━━━━━━━━\u001b[0m\u001b[37m\u001b[0m \u001b[1m10s\u001b[0m 6ms/step - acc: 0.8541 - loss: 0.4216 - val_acc: 0.8510 - val_loss: 0.4322\n",
      "Epoch 7/20\n",
      "\u001b[1m844/844\u001b[0m \u001b[32m━━━━━━━━━━━━━━━━━━━━\u001b[0m\u001b[37m\u001b[0m \u001b[1m5s\u001b[0m 6ms/step - acc: 0.8610 - loss: 0.4033 - val_acc: 0.8555 - val_loss: 0.4163\n",
      "Epoch 8/20\n",
      "\u001b[1m844/844\u001b[0m \u001b[32m━━━━━━━━━━━━━━━━━━━━\u001b[0m\u001b[37m\u001b[0m \u001b[1m5s\u001b[0m 6ms/step - acc: 0.8613 - loss: 0.3972 - val_acc: 0.8593 - val_loss: 0.4049\n",
      "Epoch 9/20\n",
      "\u001b[1m844/844\u001b[0m \u001b[32m━━━━━━━━━━━━━━━━━━━━\u001b[0m\u001b[37m\u001b[0m \u001b[1m5s\u001b[0m 6ms/step - acc: 0.8659 - loss: 0.3853 - val_acc: 0.8642 - val_loss: 0.3913\n",
      "Epoch 10/20\n",
      "\u001b[1m844/844\u001b[0m \u001b[32m━━━━━━━━━━━━━━━━━━━━\u001b[0m\u001b[37m\u001b[0m \u001b[1m6s\u001b[0m 7ms/step - acc: 0.8681 - loss: 0.3762 - val_acc: 0.8640 - val_loss: 0.3825\n",
      "Epoch 11/20\n",
      "\u001b[1m844/844\u001b[0m \u001b[32m━━━━━━━━━━━━━━━━━━━━\u001b[0m\u001b[37m\u001b[0m \u001b[1m5s\u001b[0m 6ms/step - acc: 0.8724 - loss: 0.3601 - val_acc: 0.8647 - val_loss: 0.3784\n",
      "Epoch 12/20\n",
      "\u001b[1m844/844\u001b[0m \u001b[32m━━━━━━━━━━━━━━━━━━━━\u001b[0m\u001b[37m\u001b[0m \u001b[1m6s\u001b[0m 7ms/step - acc: 0.8743 - loss: 0.3587 - val_acc: 0.8667 - val_loss: 0.3712\n",
      "Epoch 13/20\n",
      "\u001b[1m844/844\u001b[0m \u001b[32m━━━━━━━━━━━━━━━━━━━━\u001b[0m\u001b[37m\u001b[0m \u001b[1m10s\u001b[0m 8ms/step - acc: 0.8751 - loss: 0.3556 - val_acc: 0.8655 - val_loss: 0.3715\n",
      "Epoch 14/20\n",
      "\u001b[1m844/844\u001b[0m \u001b[32m━━━━━━━━━━━━━━━━━━━━\u001b[0m\u001b[37m\u001b[0m \u001b[1m10s\u001b[0m 7ms/step - acc: 0.8766 - loss: 0.3526 - val_acc: 0.8698 - val_loss: 0.3651\n",
      "Epoch 15/20\n",
      "\u001b[1m844/844\u001b[0m \u001b[32m━━━━━━━━━━━━━━━━━━━━\u001b[0m\u001b[37m\u001b[0m \u001b[1m6s\u001b[0m 7ms/step - acc: 0.8778 - loss: 0.3448 - val_acc: 0.8635 - val_loss: 0.3837\n",
      "Epoch 16/20\n",
      "\u001b[1m844/844\u001b[0m \u001b[32m━━━━━━━━━━━━━━━━━━━━\u001b[0m\u001b[37m\u001b[0m \u001b[1m6s\u001b[0m 7ms/step - acc: 0.8798 - loss: 0.3433 - val_acc: 0.8733 - val_loss: 0.3587\n",
      "Epoch 17/20\n",
      "\u001b[1m844/844\u001b[0m \u001b[32m━━━━━━━━━━━━━━━━━━━━\u001b[0m\u001b[37m\u001b[0m \u001b[1m11s\u001b[0m 8ms/step - acc: 0.8828 - loss: 0.3341 - val_acc: 0.8765 - val_loss: 0.3483\n",
      "Epoch 18/20\n",
      "\u001b[1m844/844\u001b[0m \u001b[32m━━━━━━━━━━━━━━━━━━━━\u001b[0m\u001b[37m\u001b[0m \u001b[1m6s\u001b[0m 7ms/step - acc: 0.8845 - loss: 0.3233 - val_acc: 0.8737 - val_loss: 0.3504\n",
      "Epoch 19/20\n",
      "\u001b[1m844/844\u001b[0m \u001b[32m━━━━━━━━━━━━━━━━━━━━\u001b[0m\u001b[37m\u001b[0m \u001b[1m6s\u001b[0m 7ms/step - acc: 0.8869 - loss: 0.3210 - val_acc: 0.8773 - val_loss: 0.3415\n",
      "Epoch 20/20\n",
      "\u001b[1m844/844\u001b[0m \u001b[32m━━━━━━━━━━━━━━━━━━━━\u001b[0m\u001b[37m\u001b[0m \u001b[1m5s\u001b[0m 6ms/step - acc: 0.8885 - loss: 0.3158 - val_acc: 0.8690 - val_loss: 0.3598\n"
     ]
    },
    {
     "data": {
      "text/plain": [
       "<keras.src.callbacks.history.History at 0x216f3b30470>"
      ]
     },
     "execution_count": 105,
     "metadata": {},
     "output_type": "execute_result"
    }
   ],
   "source": [
    "model.fit(x = x_train,\n",
    "          y = y_train,\n",
    "          epochs = 20,\n",
    "          batch_size = 64,\n",
    "          validation_split = 0.1)"
   ]
  },
  {
   "cell_type": "code",
   "execution_count": 107,
   "id": "2ed018ec-371a-4cd9-8c72-fbd7e8bfbe32",
   "metadata": {},
   "outputs": [
    {
     "data": {
      "text/plain": [
       "<matplotlib.legend.Legend at 0x216f1ad2510>"
      ]
     },
     "execution_count": 107,
     "metadata": {},
     "output_type": "execute_result"
    },
    {
     "data": {
      "image/png": "[encoded data removed]",
      "text/plain": [
       "<Figure size 640x480 with 1 Axes>"
      ]
     },
     "metadata": {},
     "output_type": "display_data"
    }
   ],
   "source": [
    "plt.plot(model.history.history[\"loss\"], label=\"Loss\")\n",
    "plt.plot(model.history.history[\"val_loss\"], label=\"ValLoss\")\n",
    "plt.legend()"
   ]
  },
  {
   "cell_type": "code",
   "execution_count": 109,
   "id": "a87c6e8f-81a6-4818-b321-fda08233fb30",
   "metadata": {},
   "outputs": [
    {
     "data": {
      "text/plain": [
       "9"
      ]
     },
     "execution_count": 109,
     "metadata": {},
     "output_type": "execute_result"
    },
    {
     "data": {
      "image/png": "[encoded data removed]",
      "text/plain": [
       "<Figure size 640x480 with 1 Axes>"
      ]
     },
     "metadata": {},
     "output_type": "display_data"
    }
   ],
   "source": [
    "# Metrics\n",
    "test_image = x_test[0]\n",
    "plt.imshow(test_image)\n",
    "y_test[0]"
   ]
  },
  {
   "cell_type": "code",
   "execution_count": 111,
   "id": "3ec3b4fc-44f7-4b3c-b86c-5d760a89e0c7",
   "metadata": {},
   "outputs": [],
   "source": [
    "# model accepts normalized images only\n",
    "test_image = test_image / 255.0"
   ]
  },
  {
   "cell_type": "code",
   "execution_count": 113,
   "id": "897dbd4a-e7c2-426e-935e-5da8863f1802",
   "metadata": {},
   "outputs": [
    {
     "data": {
      "text/plain": [
       "(28, 28)"
      ]
     },
     "execution_count": 113,
     "metadata": {},
     "output_type": "execute_result"
    }
   ],
   "source": [
    "test_image.shape"
   ]
  },
  {
   "cell_type": "code",
   "execution_count": 115,
   "id": "2b841fbc-b2df-4bc0-bf7c-0c660218320e",
   "metadata": {},
   "outputs": [
    {
     "data": {
      "text/plain": [
       "(None, 28, 28)"
      ]
     },
     "execution_count": 115,
     "metadata": {},
     "output_type": "execute_result"
    }
   ],
   "source": [
    "model.input_shape # num_of_images, height, width"
   ]
  },
  {
   "cell_type": "code",
   "execution_count": 117,
   "id": "7d0f687d-6cb1-4423-a36c-a611bfc5c7f2",
   "metadata": {},
   "outputs": [],
   "source": [
    "# We need to add num_of_images in our test_image\n",
    "test_image = np.expand_dims(test_image, axis=0)"
   ]
  },
  {
   "cell_type": "code",
   "execution_count": 119,
   "id": "91d1f33e-1836-4da6-b8a2-902d994a5839",
   "metadata": {},
   "outputs": [
    {
     "data": {
      "text/plain": [
       "(1, 28, 28)"
      ]
     },
     "execution_count": 119,
     "metadata": {},
     "output_type": "execute_result"
    }
   ],
   "source": [
    "test_image.shape"
   ]
  },
  {
   "cell_type": "code",
   "execution_count": 121,
   "id": "b566b8ac-f07e-4e6a-ab5b-a2a390a4ea07",
   "metadata": {},
   "outputs": [
    {
     "name": "stdout",
     "output_type": "stream",
     "text": [
      "\u001b[1m1/1\u001b[0m \u001b[32m━━━━━━━━━━━━━━━━━━━━\u001b[0m\u001b[37m\u001b[0m \u001b[1m0s\u001b[0m 70ms/step\n"
     ]
    },
    {
     "data": {
      "text/plain": [
       "array([[1.1466621e-05, 5.4800448e-06, 3.4231412e-05, 4.9018196e-05,\n",
       "        1.5926327e-05, 8.0923244e-02, 8.5751439e-05, 5.4934390e-02,\n",
       "        1.3596519e-03, 8.6258090e-01]], dtype=float32)"
      ]
     },
     "execution_count": 121,
     "metadata": {},
     "output_type": "execute_result"
    }
   ],
   "source": [
    "results = model.predict(test_image)\n",
    "results"
   ]
  },
  {
   "cell_type": "code",
   "execution_count": 123,
   "id": "78f0fb46-dca9-4147-a1b6-e9d843059d77",
   "metadata": {},
   "outputs": [
    {
     "data": {
      "text/plain": [
       "0.8625809"
      ]
     },
     "execution_count": 123,
     "metadata": {},
     "output_type": "execute_result"
    }
   ],
   "source": [
    "results.max()"
   ]
  },
  {
   "cell_type": "code",
   "execution_count": 125,
   "id": "db8b1243-2019-47e7-adf5-12c417db1cfc",
   "metadata": {},
   "outputs": [
    {
     "data": {
      "text/plain": [
       "9"
      ]
     },
     "execution_count": 125,
     "metadata": {},
     "output_type": "execute_result"
    }
   ],
   "source": [
    "np.argmax(results) # return the position at which max prob resides"
   ]
  },
  {
   "cell_type": "code",
   "execution_count": 127,
   "id": "23d19c51-a794-4f99-a345-294b624a36b7",
   "metadata": {},
   "outputs": [],
   "source": [
    "def predict_func(image):\n",
    "  # plt.imshow(image)\n",
    "  image = image / 255.0\n",
    "  image = np.expand_dims(image, axis=0)\n",
    "  results = model.predict(image)\n",
    "  return np.argmax(results)"
   ]
  },
  {
   "cell_type": "code",
   "execution_count": 129,
   "id": "53818774-b68f-4718-82f1-de1dd7ef6ad1",
   "metadata": {},
   "outputs": [
    {
     "name": "stdout",
     "output_type": "stream",
     "text": [
      "\u001b[1m1/1\u001b[0m \u001b[32m━━━━━━━━━━━━━━━━━━━━\u001b[0m\u001b[37m\u001b[0m \u001b[1m0s\u001b[0m 40ms/step\n"
     ]
    },
    {
     "data": {
      "text/plain": [
       "Text(0.5, 1.0, 'Actual: 2 & Predicted: 2')"
      ]
     },
     "execution_count": 129,
     "metadata": {},
     "output_type": "execute_result"
    },
    {
     "data": {
      "image/png": "[encoded data removed]",
      "text/plain": [
       "<Figure size 640x480 with 1 Axes>"
      ]
     },
     "metadata": {},
     "output_type": "display_data"
    }
   ],
   "source": [
    "plt.imshow(x_test[500])\n",
    "result = predict_func(x_test[500])\n",
    "plt.title(f\"Actual: {y_test[500]} & Predicted: {result}\")"
   ]
  },
  {
   "cell_type": "code",
   "execution_count": 131,
   "id": "f48fb880-9e74-444c-9e74-6d3af79b4c93",
   "metadata": {},
   "outputs": [],
   "source": [
    "x_test_v2 = x_test / 255.0"
   ]
  },
  {
   "cell_type": "code",
   "execution_count": 133,
   "id": "76e620f8-f263-441a-99b9-9d4611afcdb9",
   "metadata": {},
   "outputs": [
    {
     "data": {
      "text/plain": [
       "(10000, 28, 28)"
      ]
     },
     "execution_count": 133,
     "metadata": {},
     "output_type": "execute_result"
    }
   ],
   "source": [
    "x_test_v2.shape"
   ]
  },
  {
   "cell_type": "code",
   "execution_count": 135,
   "id": "929f06b4-4fc5-40c5-a6da-bd5d3a3a7c9d",
   "metadata": {},
   "outputs": [
    {
     "data": {
      "text/plain": [
       "(None, 10)"
      ]
     },
     "execution_count": 135,
     "metadata": {},
     "output_type": "execute_result"
    }
   ],
   "source": [
    "model.output_shape"
   ]
  },
  {
   "cell_type": "code",
   "execution_count": 137,
   "id": "17c1c1c2-c958-468d-8aff-5497a1392694",
   "metadata": {},
   "outputs": [
    {
     "name": "stdout",
     "output_type": "stream",
     "text": [
      "\u001b[1m313/313\u001b[0m \u001b[32m━━━━━━━━━━━━━━━━━━━━\u001b[0m\u001b[37m\u001b[0m \u001b[1m1s\u001b[0m 3ms/step\n"
     ]
    }
   ],
   "source": [
    "result = model.predict(x_test_v2)"
   ]
  },
  {
   "cell_type": "code",
   "execution_count": 139,
   "id": "173116c4-6b9f-4e24-94c8-16b8598e6de4",
   "metadata": {},
   "outputs": [
    {
     "data": {
      "text/plain": [
       "(10000, 10)"
      ]
     },
     "execution_count": 139,
     "metadata": {},
     "output_type": "execute_result"
    }
   ],
   "source": [
    "result.shape"
   ]
  },
  {
   "cell_type": "code",
   "execution_count": 141,
   "id": "1c09aab9-3016-45e8-90c8-e79037a34872",
   "metadata": {},
   "outputs": [
    {
     "data": {
      "text/plain": [
       "array([9, 2, 1, ..., 8, 1, 5], dtype=int64)"
      ]
     },
     "execution_count": 141,
     "metadata": {},
     "output_type": "execute_result"
    }
   ],
   "source": [
    "y_pred = np.argmax(result, axis=1)\n",
    "y_pred"
   ]
  },
  {
   "cell_type": "code",
   "execution_count": 143,
   "id": "c5d06655-4941-4255-bc91-84f6055b0e57",
   "metadata": {},
   "outputs": [
    {
     "data": {
      "text/plain": [
       "array([9, 2, 1, ..., 8, 1, 5], dtype=uint8)"
      ]
     },
     "execution_count": 143,
     "metadata": {},
     "output_type": "execute_result"
    }
   ],
   "source": [
    "y_test"
   ]
  },
  {
   "cell_type": "code",
   "execution_count": 145,
   "id": "5a4ff197-0475-40d6-ae53-0a786081d67c",
   "metadata": {},
   "outputs": [
    {
     "data": {
      "text/plain": [
       "0.8609"
      ]
     },
     "execution_count": 145,
     "metadata": {},
     "output_type": "execute_result"
    }
   ],
   "source": [
    "(y_pred == y_test).mean()"
   ]
  },
  {
   "cell_type": "code",
   "execution_count": 147,
   "id": "c7ab558b-4bf8-4abc-a676-e99770810505",
   "metadata": {},
   "outputs": [],
   "source": [
    "score = pd.DataFrame()\n",
    "score['y_pred'] = y_pred\n",
    "score['y_test'] = y_test"
   ]
  },
  {
   "cell_type": "code",
   "execution_count": 151,
   "id": "de3b0810-8de0-4fdb-8a45-7d8a40f91328",
   "metadata": {},
   "outputs": [
    {
     "data": {
      "text/html": [
       "<div>\n",
       "<style scoped>\n",
       "    .dataframe tbody tr th:only-of-type {\n",
       "        vertical-align: middle;\n",
       "    }\n",
       "\n",
       "    .dataframe tbody tr th {\n",
       "        vertical-align: top;\n",
       "    }\n",
       "\n",
       "    .dataframe thead th {\n",
       "        text-align: right;\n",
       "    }\n",
       "</style>\n",
       "<table border=\"1\" class=\"dataframe\">\n",
       "  <thead>\n",
       "    <tr style=\"text-align: right;\">\n",
       "      <th></th>\n",
       "      <th>y_pred</th>\n",
       "      <th>y_test</th>\n",
       "    </tr>\n",
       "  </thead>\n",
       "  <tbody>\n",
       "    <tr>\n",
       "      <th>0</th>\n",
       "      <td>9</td>\n",
       "      <td>9</td>\n",
       "    </tr>\n",
       "    <tr>\n",
       "      <th>1</th>\n",
       "      <td>2</td>\n",
       "      <td>2</td>\n",
       "    </tr>\n",
       "    <tr>\n",
       "      <th>2</th>\n",
       "      <td>1</td>\n",
       "      <td>1</td>\n",
       "    </tr>\n",
       "    <tr>\n",
       "      <th>3</th>\n",
       "      <td>1</td>\n",
       "      <td>1</td>\n",
       "    </tr>\n",
       "    <tr>\n",
       "      <th>4</th>\n",
       "      <td>6</td>\n",
       "      <td>6</td>\n",
       "    </tr>\n",
       "    <tr>\n",
       "      <th>...</th>\n",
       "      <td>...</td>\n",
       "      <td>...</td>\n",
       "    </tr>\n",
       "    <tr>\n",
       "      <th>9995</th>\n",
       "      <td>9</td>\n",
       "      <td>9</td>\n",
       "    </tr>\n",
       "    <tr>\n",
       "      <th>9996</th>\n",
       "      <td>1</td>\n",
       "      <td>1</td>\n",
       "    </tr>\n",
       "    <tr>\n",
       "      <th>9997</th>\n",
       "      <td>8</td>\n",
       "      <td>8</td>\n",
       "    </tr>\n",
       "    <tr>\n",
       "      <th>9998</th>\n",
       "      <td>1</td>\n",
       "      <td>1</td>\n",
       "    </tr>\n",
       "    <tr>\n",
       "      <th>9999</th>\n",
       "      <td>5</td>\n",
       "      <td>5</td>\n",
       "    </tr>\n",
       "  </tbody>\n",
       "</table>\n",
       "<p>10000 rows × 2 columns</p>\n",
       "</div>"
      ],
      "text/plain": [
       "      y_pred  y_test\n",
       "0          9       9\n",
       "1          2       2\n",
       "2          1       1\n",
       "3          1       1\n",
       "4          6       6\n",
       "...      ...     ...\n",
       "9995       9       9\n",
       "9996       1       1\n",
       "9997       8       8\n",
       "9998       1       1\n",
       "9999       5       5\n",
       "\n",
       "[10000 rows x 2 columns]"
      ]
     },
     "execution_count": 151,
     "metadata": {},
     "output_type": "execute_result"
    }
   ],
   "source": [
    "score"
   ]
  },
  {
   "cell_type": "code",
   "execution_count": 153,
   "id": "ce2b4746-68c3-414e-817c-78649ff2386e",
   "metadata": {},
   "outputs": [],
   "source": [
    "import sklearn"
   ]
  },
  {
   "cell_type": "code",
   "execution_count": 157,
   "id": "bb85473a-e4f7-487d-b441-3b248702de74",
   "metadata": {},
   "outputs": [],
   "source": [
    "from sklearn.metrics import accuracy_score, confusion_matrix, ConfusionMatrixDisplay"
   ]
  },
  {
   "cell_type": "code",
   "execution_count": 159,
   "id": "829e72cd-e241-4d24-8b13-423e8bab318b",
   "metadata": {},
   "outputs": [
    {
     "data": {
      "text/plain": [
       "0.8609"
      ]
     },
     "execution_count": 159,
     "metadata": {},
     "output_type": "execute_result"
    }
   ],
   "source": [
    "accuracy_score(y_test, y_pred)"
   ]
  },
  {
   "cell_type": "code",
   "execution_count": 161,
   "id": "47361612-0372-4081-9ba2-4b321139f4ca",
   "metadata": {},
   "outputs": [
    {
     "data": {
      "text/plain": [
       "array([[776,   0,   9,  37,   2,   1, 165,   0,  10,   0],\n",
       "       [  3, 966,   0,  24,   2,   0,   4,   0,   1,   0],\n",
       "       [ 11,   2, 724,  13,  88,   0, 159,   0,   3,   0],\n",
       "       [ 21,   9,   6, 883,  33,   0,  42,   0,   6,   0],\n",
       "       [  0,   1,  81,  33, 709,   1, 171,   0,   4,   0],\n",
       "       [  0,   0,   0,   1,   0, 962,   0,  24,   2,  11],\n",
       "       [101,   1,  60,  35,  34,   0, 756,   0,  13,   0],\n",
       "       [  0,   0,   0,   0,   0,  39,   0, 925,   0,  36],\n",
       "       [  3,   1,   4,   8,   2,   3,  16,   5, 958,   0],\n",
       "       [  0,   0,   0,   0,   0,  14,   1,  35,   0, 950]], dtype=int64)"
      ]
     },
     "execution_count": 161,
     "metadata": {},
     "output_type": "execute_result"
    }
   ],
   "source": [
    "confusion_matrix(y_test, y_pred)"
   ]
  },
  {
   "cell_type": "code",
   "execution_count": 165,
   "id": "1573d5e4-28f1-4b7d-b3c9-9083721d75ab",
   "metadata": {},
   "outputs": [],
   "source": [
    "class_dict = {\n",
    "  0:\t\"T-shirt/top\",\n",
    "  1:\t\"Trouser\",\n",
    "  2:\t\"Pullover\",\n",
    "  3:  \"Dress\",\n",
    "  4:\t\"Coat\",\n",
    "  5:\t\"Sandal\",\n",
    "  6:\t\"Shirt\",\n",
    "  7:\t\"Sneaker\",\n",
    "  8:\t\"Bag\",\n",
    "  9:\t\"Ankle boot\"\n",
    "}"
   ]
  },
  {
   "cell_type": "code",
   "execution_count": 167,
   "id": "0350e67a-cecb-4d73-bd31-d3f5f0061bf1",
   "metadata": {},
   "outputs": [
    {
     "data": {
      "text/plain": [
       "<sklearn.metrics._plot.confusion_matrix.ConfusionMatrixDisplay at 0x21696c52c00>"
      ]
     },
     "execution_count": 167,
     "metadata": {},
     "output_type": "execute_result"
    },
    {
     "data": {
      "image/png": "[encoded data removed]",
      "text/plain": [
       "<Figure size 640x480 with 2 Axes>"
      ]
     },
     "metadata": {},
     "output_type": "display_data"
    }
   ],
   "source": [
    "ConfusionMatrixDisplay(confusion_matrix(y_test, y_pred), display_labels=class_dict.values()).plot()"
   ]
  },
  {
   "cell_type": "code",
   "execution_count": 169,
   "id": "0bbabfb0-9c5a-43a8-8042-5e0e1f91288e",
   "metadata": {},
   "outputs": [
    {
     "name": "stdout",
     "output_type": "stream",
     "text": [
      "\u001b[1m313/313\u001b[0m \u001b[32m━━━━━━━━━━━━━━━━━━━━\u001b[0m\u001b[37m\u001b[0m \u001b[1m1s\u001b[0m 3ms/step - acc: 0.8467 - loss: 56.3401\n"
     ]
    },
    {
     "data": {
      "text/plain": [
       "[58.74210739135742, 0.8414999842643738]"
      ]
     },
     "execution_count": 169,
     "metadata": {},
     "output_type": "execute_result"
    }
   ],
   "source": [
    "model.evaluate(x_test, tf.keras.utils.to_categorical(y_test))"
   ]
  },
  {
   "cell_type": "code",
   "execution_count": 171,
   "id": "220c6d61-13ea-48db-a995-d77075c0d697",
   "metadata": {},
   "outputs": [
    {
     "data": {
      "text/html": [
       "<div>\n",
       "<style scoped>\n",
       "    .dataframe tbody tr th:only-of-type {\n",
       "        vertical-align: middle;\n",
       "    }\n",
       "\n",
       "    .dataframe tbody tr th {\n",
       "        vertical-align: top;\n",
       "    }\n",
       "\n",
       "    .dataframe thead th {\n",
       "        text-align: right;\n",
       "    }\n",
       "</style>\n",
       "<table border=\"1\" class=\"dataframe\">\n",
       "  <thead>\n",
       "    <tr style=\"text-align: right;\">\n",
       "      <th></th>\n",
       "      <th>y_pred</th>\n",
       "      <th>y_test</th>\n",
       "    </tr>\n",
       "  </thead>\n",
       "  <tbody>\n",
       "    <tr>\n",
       "      <th>12</th>\n",
       "      <td>5</td>\n",
       "      <td>7</td>\n",
       "    </tr>\n",
       "    <tr>\n",
       "      <th>17</th>\n",
       "      <td>2</td>\n",
       "      <td>4</td>\n",
       "    </tr>\n",
       "    <tr>\n",
       "      <th>23</th>\n",
       "      <td>5</td>\n",
       "      <td>9</td>\n",
       "    </tr>\n",
       "    <tr>\n",
       "      <th>25</th>\n",
       "      <td>2</td>\n",
       "      <td>4</td>\n",
       "    </tr>\n",
       "    <tr>\n",
       "      <th>40</th>\n",
       "      <td>0</td>\n",
       "      <td>6</td>\n",
       "    </tr>\n",
       "    <tr>\n",
       "      <th>...</th>\n",
       "      <td>...</td>\n",
       "      <td>...</td>\n",
       "    </tr>\n",
       "    <tr>\n",
       "      <th>9972</th>\n",
       "      <td>6</td>\n",
       "      <td>2</td>\n",
       "    </tr>\n",
       "    <tr>\n",
       "      <th>9977</th>\n",
       "      <td>0</td>\n",
       "      <td>6</td>\n",
       "    </tr>\n",
       "    <tr>\n",
       "      <th>9979</th>\n",
       "      <td>0</td>\n",
       "      <td>6</td>\n",
       "    </tr>\n",
       "    <tr>\n",
       "      <th>9985</th>\n",
       "      <td>1</td>\n",
       "      <td>2</td>\n",
       "    </tr>\n",
       "    <tr>\n",
       "      <th>9989</th>\n",
       "      <td>2</td>\n",
       "      <td>4</td>\n",
       "    </tr>\n",
       "  </tbody>\n",
       "</table>\n",
       "<p>1391 rows × 2 columns</p>\n",
       "</div>"
      ],
      "text/plain": [
       "      y_pred  y_test\n",
       "12         5       7\n",
       "17         2       4\n",
       "23         5       9\n",
       "25         2       4\n",
       "40         0       6\n",
       "...      ...     ...\n",
       "9972       6       2\n",
       "9977       0       6\n",
       "9979       0       6\n",
       "9985       1       2\n",
       "9989       2       4\n",
       "\n",
       "[1391 rows x 2 columns]"
      ]
     },
     "execution_count": 171,
     "metadata": {},
     "output_type": "execute_result"
    }
   ],
   "source": [
    "score.loc[score.y_pred != y_test]"
   ]
  },
  {
   "cell_type": "code",
   "execution_count": 173,
   "id": "0dad8024-00d5-49cc-99ff-80c2aafc4d0d",
   "metadata": {},
   "outputs": [
    {
     "data": {
      "text/plain": [
       "Index([  12,   17,   23,   25,   40,   42,   49,   50,   51,   57,\n",
       "       ...\n",
       "       9949, 9953, 9954, 9955, 9961, 9972, 9977, 9979, 9985, 9989],\n",
       "      dtype='int64', length=1391)"
      ]
     },
     "execution_count": 173,
     "metadata": {},
     "output_type": "execute_result"
    }
   ],
   "source": [
    "score.loc[score.y_pred != y_test].index"
   ]
  },
  {
   "cell_type": "code",
   "execution_count": 177,
   "id": "16704c13-6f6a-4733-bba6-41a022ad6201",
   "metadata": {},
   "outputs": [
    {
     "data": {
      "text/plain": [
       "Text(0.5, 1.0, 'Actual: Ankle boot & Predicted: Sandal')"
      ]
     },
     "execution_count": 177,
     "metadata": {},
     "output_type": "execute_result"
    },
    {
     "data": {
      "image/png": "[encoded data removed]",
      "text/plain": [
       "<Figure size 640x480 with 1 Axes>"
      ]
     },
     "metadata": {},
     "output_type": "display_data"
    }
   ],
   "source": [
    "num = 23\n",
    "plt.imshow(x_test[num])\n",
    "plt.title(f\"Actual: {class_dict[score.loc[num, 'y_test']]} & Predicted: {class_dict[score.loc[num, 'y_pred']]}\")"
   ]
  },
  {
   "cell_type": "code",
   "execution_count": 179,
   "id": "d73838a3-9b10-437c-840b-425f4aa18f5a",
   "metadata": {},
   "outputs": [],
   "source": [
    "from sklearn.metrics import classification_report"
   ]
  },
  {
   "cell_type": "code",
   "execution_count": 181,
   "id": "e09a8a73-e52f-452e-9222-9e7f3ca31168",
   "metadata": {},
   "outputs": [
    {
     "name": "stdout",
     "output_type": "stream",
     "text": [
      "              precision    recall  f1-score   support\n",
      "\n",
      " T-shirt/top       0.85      0.78      0.81      1000\n",
      "     Trouser       0.99      0.97      0.98      1000\n",
      "    Pullover       0.82      0.72      0.77      1000\n",
      "       Dress       0.85      0.88      0.87      1000\n",
      "        Coat       0.81      0.71      0.76      1000\n",
      "      Sandal       0.94      0.96      0.95      1000\n",
      "       Shirt       0.58      0.76      0.65      1000\n",
      "     Sneaker       0.94      0.93      0.93      1000\n",
      "         Bag       0.96      0.96      0.96      1000\n",
      "  Ankle boot       0.95      0.95      0.95      1000\n",
      "\n",
      "    accuracy                           0.86     10000\n",
      "   macro avg       0.87      0.86      0.86     10000\n",
      "weighted avg       0.87      0.86      0.86     10000\n",
      "\n"
     ]
    }
   ],
   "source": [
    "print(classification_report(y_test, y_pred,\n",
    "                            target_names=list(class_dict.values())\n",
    "                            ))"
   ]
  },
  {
   "cell_type": "code",
   "execution_count": null,
   "id": "d214f4f0-a5a5-486e-a887-e8b98befc31a",
   "metadata": {},
   "outputs": [],
   "source": []
  },
  {
   "cell_type": "code",
   "execution_count": null,
   "id": "47426bc7-0f22-47c7-aade-72760d0c224b",
   "metadata": {},
   "outputs": [],
   "source": []
  }
 ],
 "metadata": {
  "kernelspec": {
   "display_name": "Python 3 (ipykernel)",
   "language": "python",
   "name": "python3"
  },
  "language_info": {
   "codemirror_mode": {
    "name": "ipython",
    "version": 3
   },
   "file_extension": ".py",
   "mimetype": "text/x-python",
   "name": "python",
   "nbconvert_exporter": "python",
   "pygments_lexer": "ipython3",
   "version": "3.12.7"
  }
 },
 "nbformat": 4,
 "nbformat_minor": 5
}
